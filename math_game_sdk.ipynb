{
 "cells": [
  {
   "cell_type": "code",
   "execution_count": 1,
   "id": "770106e4",
   "metadata": {},
   "outputs": [],
   "source": [
    "import random"
   ]
  },
  {
   "cell_type": "code",
   "execution_count": 2,
   "id": "48b0af87",
   "metadata": {},
   "outputs": [
    {
     "name": "stdout",
     "output_type": "stream",
     "text": [
      "\t\t\t\t+-*/Lets start the MATH GAME/*-+\n",
      "First number is: 4\n",
      "Second number is: 8 \n",
      "\n",
      "The Addition of a,b is: 12\n",
      "Right answer\n",
      "score is = 1\n",
      "\n",
      "The Substraction of a,b is :-4\n",
      "Right answer\n",
      "score is = 2\n",
      "\n",
      "The Multiplication of a,b is :32\n",
      "Right answer\n",
      "score is = 3\n",
      "\n",
      "The division of a,b is :234\n",
      "WRONG ANSWER\n",
      "The division of a,b is : 0.5\n",
      "score is = 3\n",
      "\n",
      "\n",
      "\n",
      "The final score is :3\n",
      "\n",
      "YOU GOT 75.0 %\n"
     ]
    }
   ],
   "source": [
    "print(\"\\t\\t\\t\\t+-*/Lets start the MATH GAME/*-+\")\n",
    "a=random.randint(1,10)\n",
    "print(\"First number is:\",a)\n",
    "b=random.randint(1,10)\n",
    "print(\"Second number is:\",b,\"\\n\")\n",
    "\n",
    "score=0\n",
    "\n",
    "answer1=int(input(\"The Addition of a,b is: \"))\n",
    "if answer1==a+b:\n",
    "    print(\"Right answer\")\n",
    "    score=score+1\n",
    "    print(f\"score is = {score}\\n\")\n",
    "else:\n",
    "    print(\"WRONG ANSWER\")\n",
    "    print('The Addition of a,b is:', a+b)\n",
    "    print(f\"score is = {score}\\n\")\n",
    "    \n",
    "answer2=int(input(\"The Substraction of a,b is :\"))\n",
    "if answer2==a-b:\n",
    "    print(\"Right answer\")\n",
    "    score=score+1\n",
    "    print(f\"score is = {score}\\n\")\n",
    "else:\n",
    "    print(\"WRONG ANSWER\")\n",
    "    print('The Substraction of a,b is:', a-b)\n",
    "    print(f\"score is = {score}\\n\")\n",
    "    \n",
    "answer3=int(input(\"The Multiplication of a,b is :\"))\n",
    "if answer3==a*b:\n",
    "    print(\"Right answer\")\n",
    "    score=score+1\n",
    "    print(f\"score is = {score}\\n\")\n",
    "else:\n",
    "    print(\"WRONG ANSWER\")\n",
    "    print(\"The Multiplication of a,b is :\", a*b)\n",
    "    print(f\"score is = {score}\\n\")\n",
    "    \n",
    "answer4=float(input(\"The division of a,b is :\"))\n",
    "if answer4==round((a/b),2):\n",
    "    print(\"Right answer\")\n",
    "    score=score+1\n",
    "    print(f\"score is = {score}\\n\")\n",
    "else:\n",
    "    print(\"WRONG ANSWER\")\n",
    "    print(\"The division of a,b is :\", round((a/b),2))\n",
    "    print(f\"score is = {score}\\n\")\n",
    "\n",
    "print('\\n')\n",
    "print(f\"The final score is :{score}\\n\")\n",
    "\n",
    "score_in_percentage=(score/4)*100\n",
    "print(f\"YOU GOT {score_in_percentage} %\")"
   ]
  },
  {
   "cell_type": "code",
   "execution_count": null,
   "id": "9ee2502b",
   "metadata": {},
   "outputs": [],
   "source": []
  }
 ],
 "metadata": {
  "kernelspec": {
   "display_name": "Python 3 (ipykernel)",
   "language": "python",
   "name": "python3"
  },
  "language_info": {
   "codemirror_mode": {
    "name": "ipython",
    "version": 3
   },
   "file_extension": ".py",
   "mimetype": "text/x-python",
   "name": "python",
   "nbconvert_exporter": "python",
   "pygments_lexer": "ipython3",
   "version": "3.9.7"
  }
 },
 "nbformat": 4,
 "nbformat_minor": 5
}
